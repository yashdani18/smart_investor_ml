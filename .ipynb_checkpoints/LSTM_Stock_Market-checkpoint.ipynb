{
 "cells": [
  {
   "cell_type": "code",
   "execution_count": 1,
   "id": "523eaa3c",
   "metadata": {},
   "outputs": [
    {
     "name": "stderr",
     "output_type": "stream",
     "text": [
      "C:\\Users\\yashd\\anaconda3\\lib\\site-packages\\scipy\\__init__.py:146: UserWarning: A NumPy version >=1.16.5 and <1.23.0 is required for this version of SciPy (detected version 1.23.5\n",
      "  warnings.warn(f\"A NumPy version >={np_minversion} and <{np_maxversion}\"\n"
     ]
    },
    {
     "name": "stdout",
     "output_type": "stream",
     "text": [
      "WARNING:tensorflow:From C:\\Users\\yashd\\anaconda3\\lib\\site-packages\\keras\\src\\losses.py:2976: The name tf.losses.sparse_softmax_cross_entropy is deprecated. Please use tf.compat.v1.losses.sparse_softmax_cross_entropy instead.\n",
      "\n"
     ]
    }
   ],
   "source": [
    "import math\n",
    "import time\n",
    "\n",
    "import numpy as np\n",
    "import pandas as pd\n",
    "import requests\n",
    "import datetime\n",
    "from tabulate import tabulate\n",
    "import matplotlib.pyplot as plt\n",
    "\n",
    "from sklearn.preprocessing import MinMaxScaler\n",
    "\n",
    "import tensorflow as tf\n",
    "from tensorflow.keras.models import Sequential\n",
    "from tensorflow.keras.layers import Dense\n",
    "from tensorflow.keras.layers import LSTM"
   ]
  },
  {
   "cell_type": "code",
   "execution_count": 2,
   "id": "ec1024ad",
   "metadata": {},
   "outputs": [],
   "source": [
    "def get_encoded_period(p_date, p_month, p_year):\n",
    "    return int(time.mktime(datetime.datetime(p_year, p_month, p_date, 8, 30).timetuple()))\n",
    "\n",
    "\n",
    "def get_delta_date(number_of_days):\n",
    "    tomorrows_date = (str(datetime.date.today() + datetime.timedelta(days=number_of_days))).split('-')\n",
    "    temp_year = int(tomorrows_date[0])\n",
    "    temp_month = int(tomorrows_date[1])\n",
    "    temp_day = int(tomorrows_date[2])\n",
    "    # print(temp_year, temp_month, temp_day)\n",
    "    return int(time.mktime(datetime.datetime(temp_year, temp_month, temp_day, 23, 59).timetuple()))\n",
    "\n",
    "\n",
    "def prepare_url(p_ticker, period1, period2, p_interval):\n",
    "    interval = '1d'\n",
    "    if p_interval == 'daily':\n",
    "        interval = '1d'\n",
    "    elif p_interval == 'weekly':\n",
    "        interval = '1wk'\n",
    "    elif p_interval == 'monthly':\n",
    "        interval = '1mo'\n",
    "    return f'https://query1.finance.yahoo.com/v7/finance/download/{p_ticker}?period1={period1}&period2={period2}&interval={interval}&events=history&includeAdjustedClose=true'\n",
    "\n",
    "\n",
    "def get_data_from_yahoo_finance(p_url):\n",
    "    headers = {\n",
    "        'User-Agent': 'Mozilla/5.0 (Macintosh; Intel Mac OS X 10_11_5) AppleWebKit/537.36 (KHTML, like Gecko) '\n",
    "                      'Chrome/50.0.2661.102 Safari/537.36 '\n",
    "    }\n",
    "    # return requests.get(p_url, headers=headers).text\n",
    "    response = requests.get(p_url, headers=headers).text\n",
    "    # print(response)\n",
    "    return response\n",
    "\n",
    "\n",
    "def prepare_dataframe(p_response):\n",
    "    list_date = []\n",
    "    list_open = []\n",
    "    list_high = []\n",
    "    list_low = []\n",
    "    list_close = []\n",
    "    list_adj_close = []\n",
    "    list_volume = []\n",
    "\n",
    "    # print(p_response)\n",
    "\n",
    "    array_data = p_response.split('\\n')\n",
    "    # print('array_data', array_data)\n",
    "\n",
    "    for i in range(1, len(array_data)):\n",
    "        if array_data[i].split(',')[1] != 'null':\n",
    "            list_date.append(array_data[i].split(',')[0])\n",
    "            list_open.append(math.ceil(float(array_data[i].split(',')[1])))\n",
    "            list_high.append(float(array_data[i].split(',')[2]))\n",
    "            list_low.append(float(array_data[i].split(',')[3]))\n",
    "            list_close.append(math.ceil(float(array_data[i].split(',')[4])))\n",
    "            list_adj_close.append(float(array_data[i].split(',')[5]))\n",
    "            list_volume.append(float(array_data[i].split(',')[6]))\n",
    "\n",
    "    temp_df = pd.DataFrame(list(zip(list_date, list_open, list_high, list_low, list_close, list_adj_close, list_volume)))\n",
    "    columns = array_data[0].split(',')\n",
    "    # print(columns)\n",
    "    temp_df.columns = columns\n",
    "\n",
    "    return temp_df\n",
    "\n",
    "\n",
    "def print_dataframe(p_dataframe):\n",
    "    print(tabulate(p_dataframe, headers=\"keys\", tablefmt=\"psql\"))\n",
    "\n",
    "\n",
    "def fetch_data_last_5_years(ticker):\n",
    "    period1 = get_encoded_period(1, 1, 2019)\n",
    "    period2 = get_delta_date(-30)\n",
    "    url = prepare_url(ticker, period1, period2, p_interval='daily')\n",
    "    return prepare_dataframe(get_data_from_yahoo_finance(url))"
   ]
  },
  {
   "cell_type": "code",
   "execution_count": 3,
   "id": "5103dbc8",
   "metadata": {},
   "outputs": [],
   "source": [
    "df = fetch_data_last_5_years('TCS.NS')"
   ]
  },
  {
   "cell_type": "code",
   "execution_count": 4,
   "id": "2f165669",
   "metadata": {},
   "outputs": [],
   "source": [
    "# print_dataframe(df)"
   ]
  },
  {
   "cell_type": "code",
   "execution_count": 5,
   "id": "29d20d57",
   "metadata": {},
   "outputs": [],
   "source": [
    "df_close = df.reset_index()['Close']"
   ]
  },
  {
   "cell_type": "code",
   "execution_count": 6,
   "id": "9a4a645f",
   "metadata": {},
   "outputs": [
    {
     "data": {
      "text/plain": [
       "0       1903\n",
       "1       1924\n",
       "2       1900\n",
       "3       1877\n",
       "4       1898\n",
       "        ... \n",
       "1309    3875\n",
       "1310    3832\n",
       "1311    3853\n",
       "1312    3822\n",
       "1313    3871\n",
       "Name: Close, Length: 1314, dtype: int64"
      ]
     },
     "execution_count": 6,
     "metadata": {},
     "output_type": "execute_result"
    }
   ],
   "source": [
    "df_close"
   ]
  },
  {
   "cell_type": "code",
   "execution_count": 7,
   "id": "e5d123de",
   "metadata": {},
   "outputs": [
    {
     "data": {
      "text/plain": [
       "[<matplotlib.lines.Line2D at 0x263a0b58d30>]"
      ]
     },
     "execution_count": 7,
     "metadata": {},
     "output_type": "execute_result"
    },
    {
     "data": {
      "image/png": "[encoded data removed]",
      "text/plain": [
       "<Figure size 432x288 with 1 Axes>"
      ]
     },
     "metadata": {
      "needs_background": "light"
     },
     "output_type": "display_data"
    }
   ],
   "source": [
    "plt.plot(df_close)"
   ]
  },
  {
   "cell_type": "code",
   "execution_count": 8,
   "id": "eefe6160",
   "metadata": {},
   "outputs": [],
   "source": [
    "scaler = MinMaxScaler(feature_range=(0,1))\n",
    "df_close = scaler.fit_transform(np.array(df_close).reshape(-1,1))"
   ]
  },
  {
   "cell_type": "code",
   "execution_count": 9,
   "id": "3b5c2fb2",
   "metadata": {},
   "outputs": [],
   "source": [
    "training_size = int(len(df_close)*0.65)\n",
    "test_size = len(df_close) - training_size\n",
    "train_data, test_data = df_close[0:training_size,:], df_close[training_size:len(df_close),:1]"
   ]
  },
  {
   "cell_type": "code",
   "execution_count": 10,
   "id": "17a8c250",
   "metadata": {},
   "outputs": [
    {
     "data": {
      "text/plain": [
       "(854, 460)"
      ]
     },
     "execution_count": 10,
     "metadata": {},
     "output_type": "execute_result"
    }
   ],
   "source": [
    "training_size,test_size"
   ]
  },
  {
   "cell_type": "code",
   "execution_count": 11,
   "id": "935d42d3",
   "metadata": {},
   "outputs": [],
   "source": [
    "def create_dataset(dataset, time_step=1):\n",
    "    dataX, dataY = [], []\n",
    "    for i in range(len(dataset) - time_step - 1):\n",
    "        a = dataset[i:(i + time_step), 0]\n",
    "        dataX.append(a)\n",
    "        dataY.append(dataset[i + time_step, 0])\n",
    "    return np.array(dataX), np.array(dataY)"
   ]
  },
  {
   "cell_type": "code",
   "execution_count": 12,
   "id": "2b5de730",
   "metadata": {},
   "outputs": [],
   "source": [
    "time_step = 30\n",
    "X_train, y_train = create_dataset(train_data, time_step)\n",
    "X_test, ytest = create_dataset(test_data, time_step)"
   ]
  },
  {
   "cell_type": "code",
   "execution_count": 13,
   "id": "41ff6ee1",
   "metadata": {},
   "outputs": [],
   "source": [
    "X_train =X_train.reshape(X_train.shape[0],X_train.shape[1] , 1)\n",
    "X_test = X_test.reshape(X_test.shape[0],X_test.shape[1] , 1)"
   ]
  },
  {
   "cell_type": "code",
   "execution_count": 14,
   "id": "40300208",
   "metadata": {},
   "outputs": [
    {
     "name": "stdout",
     "output_type": "stream",
     "text": [
      "WARNING:tensorflow:From C:\\Users\\yashd\\anaconda3\\lib\\site-packages\\keras\\src\\backend.py:873: The name tf.get_default_graph is deprecated. Please use tf.compat.v1.get_default_graph instead.\n",
      "\n",
      "WARNING:tensorflow:From C:\\Users\\yashd\\anaconda3\\lib\\site-packages\\keras\\src\\optimizers\\__init__.py:309: The name tf.train.Optimizer is deprecated. Please use tf.compat.v1.train.Optimizer instead.\n",
      "\n"
     ]
    }
   ],
   "source": [
    "model=Sequential()\n",
    "model.add(LSTM(50,return_sequences=True,input_shape=(time_step,1)))\n",
    "model.add(LSTM(50,return_sequences=True))\n",
    "model.add(LSTM(50))\n",
    "model.add(Dense(1))\n",
    "model.compile(loss='mean_squared_error',optimizer='adam')"
   ]
  },
  {
   "cell_type": "code",
   "execution_count": 15,
   "id": "ed7bbe9f",
   "metadata": {},
   "outputs": [
    {
     "name": "stdout",
     "output_type": "stream",
     "text": [
      "Model: \"sequential\"\n",
      "_________________________________________________________________\n",
      " Layer (type)                Output Shape              Param #   \n",
      "=================================================================\n",
      " lstm (LSTM)                 (None, 30, 50)            10400     \n",
      "                                                                 \n",
      " lstm_1 (LSTM)               (None, 30, 50)            20200     \n",
      "                                                                 \n",
      " lstm_2 (LSTM)               (None, 50)                20200     \n",
      "                                                                 \n",
      " dense (Dense)               (None, 1)                 51        \n",
      "                                                                 \n",
      "=================================================================\n",
      "Total params: 50851 (198.64 KB)\n",
      "Trainable params: 50851 (198.64 KB)\n",
      "Non-trainable params: 0 (0.00 Byte)\n",
      "_________________________________________________________________\n"
     ]
    }
   ],
   "source": [
    "model.summary()"
   ]
  },
  {
   "cell_type": "code",
   "execution_count": 16,
   "id": "e5d85b90",
   "metadata": {},
   "outputs": [
    {
     "name": "stdout",
     "output_type": "stream",
     "text": [
      "Epoch 1/100\n",
      "WARNING:tensorflow:From C:\\Users\\yashd\\anaconda3\\lib\\site-packages\\keras\\src\\utils\\tf_utils.py:492: The name tf.ragged.RaggedTensorValue is deprecated. Please use tf.compat.v1.ragged.RaggedTensorValue instead.\n",
      "\n",
      "13/13 [==============================] - 121s 3s/step - loss: 0.0561 - val_loss: 0.0365\n",
      "Epoch 2/100\n",
      "13/13 [==============================] - 4s 322ms/step - loss: 0.0102 - val_loss: 0.0025\n",
      "Epoch 3/100\n",
      "13/13 [==============================] - 4s 302ms/step - loss: 0.0034 - val_loss: 0.0031\n",
      "Epoch 4/100\n",
      "13/13 [==============================] - 4s 327ms/step - loss: 0.0026 - val_loss: 0.0021\n",
      "Epoch 5/100\n",
      "13/13 [==============================] - 4s 294ms/step - loss: 0.0024 - val_loss: 0.0021\n",
      "Epoch 6/100\n",
      "13/13 [==============================] - 4s 313ms/step - loss: 0.0023 - val_loss: 0.0021\n",
      "Epoch 7/100\n",
      "13/13 [==============================] - 4s 296ms/step - loss: 0.0023 - val_loss: 0.0022\n",
      "Epoch 8/100\n",
      "13/13 [==============================] - 4s 300ms/step - loss: 0.0022 - val_loss: 0.0021\n",
      "Epoch 9/100\n",
      "13/13 [==============================] - 4s 275ms/step - loss: 0.0022 - val_loss: 0.0020\n",
      "Epoch 10/100\n",
      "13/13 [==============================] - 5s 382ms/step - loss: 0.0021 - val_loss: 0.0027\n",
      "Epoch 11/100\n",
      "13/13 [==============================] - 5s 421ms/step - loss: 0.0021 - val_loss: 0.0020\n",
      "Epoch 12/100\n",
      "13/13 [==============================] - 7s 570ms/step - loss: 0.0020 - val_loss: 0.0019\n",
      "Epoch 13/100\n",
      "13/13 [==============================] - 5s 422ms/step - loss: 0.0020 - val_loss: 0.0019\n",
      "Epoch 14/100\n",
      "13/13 [==============================] - 6s 520ms/step - loss: 0.0019 - val_loss: 0.0018\n",
      "Epoch 15/100\n",
      "13/13 [==============================] - 5s 349ms/step - loss: 0.0019 - val_loss: 0.0019\n",
      "Epoch 16/100\n",
      "13/13 [==============================] - 3s 269ms/step - loss: 0.0018 - val_loss: 0.0018\n",
      "Epoch 17/100\n",
      "13/13 [==============================] - 3s 257ms/step - loss: 0.0018 - val_loss: 0.0027\n",
      "Epoch 18/100\n",
      "13/13 [==============================] - 3s 261ms/step - loss: 0.0019 - val_loss: 0.0017\n",
      "Epoch 19/100\n",
      "13/13 [==============================] - 4s 318ms/step - loss: 0.0018 - val_loss: 0.0017\n",
      "Epoch 20/100\n",
      "13/13 [==============================] - 4s 303ms/step - loss: 0.0018 - val_loss: 0.0024\n",
      "Epoch 21/100\n",
      "13/13 [==============================] - 4s 308ms/step - loss: 0.0016 - val_loss: 0.0016\n",
      "Epoch 22/100\n",
      "13/13 [==============================] - 7s 525ms/step - loss: 0.0016 - val_loss: 0.0017\n",
      "Epoch 23/100\n",
      "13/13 [==============================] - 4s 292ms/step - loss: 0.0019 - val_loss: 0.0023\n",
      "Epoch 24/100\n",
      "13/13 [==============================] - 4s 339ms/step - loss: 0.0018 - val_loss: 0.0024\n",
      "Epoch 25/100\n",
      "13/13 [==============================] - 4s 310ms/step - loss: 0.0017 - val_loss: 0.0019\n",
      "Epoch 26/100\n",
      "13/13 [==============================] - 4s 296ms/step - loss: 0.0019 - val_loss: 0.0018\n",
      "Epoch 27/100\n",
      "13/13 [==============================] - 3s 268ms/step - loss: 0.0016 - val_loss: 0.0015\n",
      "Epoch 28/100\n",
      "13/13 [==============================] - 3s 260ms/step - loss: 0.0015 - val_loss: 0.0015\n",
      "Epoch 29/100\n",
      "13/13 [==============================] - 3s 265ms/step - loss: 0.0014 - val_loss: 0.0016\n",
      "Epoch 30/100\n",
      "13/13 [==============================] - 3s 230ms/step - loss: 0.0014 - val_loss: 0.0015\n",
      "Epoch 31/100\n",
      "13/13 [==============================] - 4s 282ms/step - loss: 0.0016 - val_loss: 0.0020\n",
      "Epoch 32/100\n",
      "13/13 [==============================] - 4s 278ms/step - loss: 0.0015 - val_loss: 0.0022\n",
      "Epoch 33/100\n",
      "13/13 [==============================] - 3s 274ms/step - loss: 0.0014 - val_loss: 0.0015\n",
      "Epoch 34/100\n",
      "13/13 [==============================] - 4s 334ms/step - loss: 0.0013 - val_loss: 0.0014\n",
      "Epoch 35/100\n",
      "13/13 [==============================] - 5s 342ms/step - loss: 0.0013 - val_loss: 0.0013\n",
      "Epoch 36/100\n",
      "13/13 [==============================] - 6s 499ms/step - loss: 0.0013 - val_loss: 0.0013\n",
      "Epoch 37/100\n",
      "13/13 [==============================] - 7s 539ms/step - loss: 0.0013 - val_loss: 0.0013\n",
      "Epoch 38/100\n",
      "13/13 [==============================] - 5s 423ms/step - loss: 0.0013 - val_loss: 0.0014\n",
      "Epoch 39/100\n",
      "13/13 [==============================] - 6s 427ms/step - loss: 0.0012 - val_loss: 0.0012\n",
      "Epoch 40/100\n",
      "13/13 [==============================] - 6s 466ms/step - loss: 0.0012 - val_loss: 0.0015\n",
      "Epoch 41/100\n",
      "13/13 [==============================] - 4s 333ms/step - loss: 0.0012 - val_loss: 0.0012\n",
      "Epoch 42/100\n",
      "13/13 [==============================] - 7s 522ms/step - loss: 0.0012 - val_loss: 0.0012\n",
      "Epoch 43/100\n",
      "13/13 [==============================] - 4s 315ms/step - loss: 0.0011 - val_loss: 0.0012\n",
      "Epoch 44/100\n",
      "13/13 [==============================] - 4s 297ms/step - loss: 0.0011 - val_loss: 0.0012\n",
      "Epoch 45/100\n",
      "13/13 [==============================] - 3s 256ms/step - loss: 0.0012 - val_loss: 0.0012\n",
      "Epoch 46/100\n",
      "13/13 [==============================] - 4s 291ms/step - loss: 0.0012 - val_loss: 0.0012\n",
      "Epoch 47/100\n",
      "13/13 [==============================] - 5s 411ms/step - loss: 0.0011 - val_loss: 0.0012\n",
      "Epoch 48/100\n",
      "13/13 [==============================] - 4s 288ms/step - loss: 0.0011 - val_loss: 0.0016\n",
      "Epoch 49/100\n",
      "13/13 [==============================] - 6s 463ms/step - loss: 0.0011 - val_loss: 0.0012\n",
      "Epoch 50/100\n",
      "13/13 [==============================] - 6s 434ms/step - loss: 0.0012 - val_loss: 0.0011\n",
      "Epoch 51/100\n",
      "13/13 [==============================] - 6s 483ms/step - loss: 0.0010 - val_loss: 0.0014\n",
      "Epoch 52/100\n",
      "13/13 [==============================] - 5s 353ms/step - loss: 0.0011 - val_loss: 0.0011\n",
      "Epoch 53/100\n",
      "13/13 [==============================] - 4s 324ms/step - loss: 0.0011 - val_loss: 0.0011\n",
      "Epoch 54/100\n",
      "13/13 [==============================] - 5s 381ms/step - loss: 9.9833e-04 - val_loss: 0.0010\n",
      "Epoch 55/100\n",
      "13/13 [==============================] - 5s 403ms/step - loss: 0.0010 - val_loss: 0.0015\n",
      "Epoch 56/100\n",
      "13/13 [==============================] - 5s 371ms/step - loss: 0.0012 - val_loss: 0.0011\n",
      "Epoch 57/100\n",
      "13/13 [==============================] - 5s 402ms/step - loss: 0.0010 - val_loss: 0.0011\n",
      "Epoch 58/100\n",
      "13/13 [==============================] - 5s 367ms/step - loss: 0.0010 - val_loss: 9.6340e-04\n",
      "Epoch 59/100\n",
      "13/13 [==============================] - 4s 268ms/step - loss: 9.4677e-04 - val_loss: 9.9992e-04\n",
      "Epoch 60/100\n",
      "13/13 [==============================] - 3s 223ms/step - loss: 9.7836e-04 - val_loss: 9.8458e-04\n",
      "Epoch 61/100\n",
      "13/13 [==============================] - 4s 350ms/step - loss: 0.0010 - val_loss: 0.0011\n",
      "Epoch 62/100\n",
      "13/13 [==============================] - 5s 365ms/step - loss: 0.0010 - val_loss: 0.0016\n",
      "Epoch 63/100\n",
      "13/13 [==============================] - 5s 360ms/step - loss: 0.0010 - val_loss: 9.0131e-04\n",
      "Epoch 64/100\n",
      "13/13 [==============================] - 6s 509ms/step - loss: 9.9981e-04 - val_loss: 0.0015\n",
      "Epoch 65/100\n",
      "13/13 [==============================] - 5s 360ms/step - loss: 0.0011 - val_loss: 0.0013\n",
      "Epoch 66/100\n",
      "13/13 [==============================] - 5s 377ms/step - loss: 9.2739e-04 - val_loss: 9.3945e-04\n",
      "Epoch 67/100\n",
      "13/13 [==============================] - 5s 363ms/step - loss: 8.8263e-04 - val_loss: 9.0135e-04\n",
      "Epoch 68/100\n",
      "13/13 [==============================] - 5s 365ms/step - loss: 8.7331e-04 - val_loss: 8.7353e-04\n",
      "Epoch 69/100\n",
      "13/13 [==============================] - 4s 318ms/step - loss: 8.8341e-04 - val_loss: 8.9451e-04\n",
      "Epoch 70/100\n",
      "13/13 [==============================] - 4s 300ms/step - loss: 8.4831e-04 - val_loss: 8.4241e-04\n",
      "Epoch 71/100\n",
      "13/13 [==============================] - 4s 330ms/step - loss: 8.6448e-04 - val_loss: 8.3339e-04\n",
      "Epoch 72/100\n",
      "13/13 [==============================] - 5s 379ms/step - loss: 8.5087e-04 - val_loss: 8.4156e-04\n",
      "Epoch 73/100\n",
      "13/13 [==============================] - 5s 342ms/step - loss: 8.2410e-04 - val_loss: 8.1970e-04\n",
      "Epoch 74/100\n",
      "13/13 [==============================] - 4s 351ms/step - loss: 8.5841e-04 - val_loss: 9.6655e-04\n",
      "Epoch 75/100\n",
      "13/13 [==============================] - 6s 444ms/step - loss: 8.5634e-04 - val_loss: 0.0012\n",
      "Epoch 76/100\n",
      "13/13 [==============================] - 4s 325ms/step - loss: 9.1150e-04 - val_loss: 8.0065e-04\n",
      "Epoch 77/100\n",
      "13/13 [==============================] - 4s 318ms/step - loss: 8.2010e-04 - val_loss: 8.1861e-04\n",
      "Epoch 78/100\n"
     ]
    },
    {
     "name": "stdout",
     "output_type": "stream",
     "text": [
      "13/13 [==============================] - 5s 363ms/step - loss: 7.9195e-04 - val_loss: 9.3151e-04\n",
      "Epoch 79/100\n",
      "13/13 [==============================] - 4s 350ms/step - loss: 8.2852e-04 - val_loss: 7.4887e-04\n",
      "Epoch 80/100\n",
      "13/13 [==============================] - 5s 371ms/step - loss: 8.4326e-04 - val_loss: 8.2249e-04\n",
      "Epoch 81/100\n",
      "13/13 [==============================] - 6s 497ms/step - loss: 8.0648e-04 - val_loss: 7.1261e-04\n",
      "Epoch 82/100\n",
      "13/13 [==============================] - 5s 359ms/step - loss: 7.5017e-04 - val_loss: 7.1081e-04\n",
      "Epoch 83/100\n",
      "13/13 [==============================] - 4s 345ms/step - loss: 7.4296e-04 - val_loss: 7.3278e-04\n",
      "Epoch 84/100\n",
      "13/13 [==============================] - 6s 493ms/step - loss: 8.4198e-04 - val_loss: 0.0016\n",
      "Epoch 85/100\n",
      "13/13 [==============================] - 7s 550ms/step - loss: 8.6186e-04 - val_loss: 0.0014\n",
      "Epoch 86/100\n",
      "13/13 [==============================] - 5s 381ms/step - loss: 8.6469e-04 - val_loss: 8.8082e-04\n",
      "Epoch 87/100\n",
      "13/13 [==============================] - 7s 597ms/step - loss: 7.8617e-04 - val_loss: 6.5495e-04\n",
      "Epoch 88/100\n",
      "13/13 [==============================] - 6s 477ms/step - loss: 7.6657e-04 - val_loss: 6.4731e-04\n",
      "Epoch 89/100\n",
      "13/13 [==============================] - 4s 290ms/step - loss: 7.9716e-04 - val_loss: 6.7723e-04\n",
      "Epoch 90/100\n",
      "13/13 [==============================] - 5s 427ms/step - loss: 7.0678e-04 - val_loss: 6.3135e-04\n",
      "Epoch 91/100\n",
      "13/13 [==============================] - 7s 539ms/step - loss: 7.0589e-04 - val_loss: 6.1565e-04\n",
      "Epoch 92/100\n",
      "13/13 [==============================] - 6s 508ms/step - loss: 6.7858e-04 - val_loss: 6.5796e-04\n",
      "Epoch 93/100\n",
      "13/13 [==============================] - 4s 307ms/step - loss: 7.6158e-04 - val_loss: 5.9743e-04\n",
      "Epoch 94/100\n",
      "13/13 [==============================] - 3s 222ms/step - loss: 6.8232e-04 - val_loss: 5.9578e-04\n",
      "Epoch 95/100\n",
      "13/13 [==============================] - 5s 373ms/step - loss: 6.8365e-04 - val_loss: 5.7786e-04\n",
      "Epoch 96/100\n",
      "13/13 [==============================] - 6s 469ms/step - loss: 6.8402e-04 - val_loss: 6.8057e-04\n",
      "Epoch 97/100\n",
      "13/13 [==============================] - 3s 254ms/step - loss: 6.8688e-04 - val_loss: 6.1928e-04\n",
      "Epoch 98/100\n",
      "13/13 [==============================] - 3s 249ms/step - loss: 6.9467e-04 - val_loss: 7.4754e-04\n",
      "Epoch 99/100\n",
      "13/13 [==============================] - 4s 287ms/step - loss: 7.6544e-04 - val_loss: 5.4277e-04\n",
      "Epoch 100/100\n",
      "13/13 [==============================] - 3s 251ms/step - loss: 7.4163e-04 - val_loss: 0.0016\n"
     ]
    },
    {
     "data": {
      "text/plain": [
       "<keras.src.callbacks.History at 0x263a408ce50>"
      ]
     },
     "execution_count": 16,
     "metadata": {},
     "output_type": "execute_result"
    }
   ],
   "source": [
    "model.fit(X_train,y_train,validation_data=(X_test,ytest),epochs=100,batch_size=64,verbose=1)"
   ]
  },
  {
   "cell_type": "code",
   "execution_count": 17,
   "id": "4f7ed663",
   "metadata": {},
   "outputs": [
    {
     "name": "stdout",
     "output_type": "stream",
     "text": [
      "26/26 [==============================] - 16s 62ms/step\n",
      "14/14 [==============================] - 1s 58ms/step\n"
     ]
    }
   ],
   "source": [
    "train_predict = model.predict(X_train)\n",
    "test_predict = model.predict(X_test)"
   ]
  },
  {
   "cell_type": "code",
   "execution_count": 18,
   "id": "f50ca7f6",
   "metadata": {},
   "outputs": [],
   "source": [
    "train_predict = scaler.inverse_transform(train_predict)\n",
    "test_predict = scaler.inverse_transform(test_predict)"
   ]
  },
  {
   "cell_type": "code",
   "execution_count": 19,
   "id": "4ef31989",
   "metadata": {},
   "outputs": [
    {
     "data": {
      "text/plain": [
       "2762.6325663828516"
      ]
     },
     "execution_count": 19,
     "metadata": {},
     "output_type": "execute_result"
    }
   ],
   "source": [
    "from sklearn.metrics import mean_squared_error\n",
    "math.sqrt(mean_squared_error(y_train,train_predict))"
   ]
  },
  {
   "cell_type": "code",
   "execution_count": 20,
   "id": "1c5853ff",
   "metadata": {},
   "outputs": [
    {
     "data": {
      "text/plain": [
       "3379.702299235728"
      ]
     },
     "execution_count": 20,
     "metadata": {},
     "output_type": "execute_result"
    }
   ],
   "source": [
    "math.sqrt(mean_squared_error(ytest,test_predict))"
   ]
  },
  {
   "cell_type": "code",
   "execution_count": 21,
   "id": "c039e3e3",
   "metadata": {},
   "outputs": [
    {
     "data": {
      "image/png": "[encoded data removed]",
      "text/plain": [
       "<Figure size 432x288 with 1 Axes>"
      ]
     },
     "metadata": {
      "needs_background": "light"
     },
     "output_type": "display_data"
    }
   ],
   "source": [
    "look_back = time_step\n",
    "trainPredictPlot = np.empty_like(df_close)\n",
    "trainPredictPlot[:, :] = np.nan\n",
    "trainPredictPlot[look_back:len(train_predict)+look_back, :] = train_predict\n",
    "# shift test predictions for plotting\n",
    "testPredictPlot = np.empty_like(df_close)\n",
    "testPredictPlot[:, :] = np.nan\n",
    "testPredictPlot[len(train_predict)+(look_back*2)+1:len(df_close)-1, :] = test_predict\n",
    "# plot baseline and predictions\n",
    "plt.plot(scaler.inverse_transform(df_close))\n",
    "plt.plot(trainPredictPlot)\n",
    "plt.plot(testPredictPlot)\n",
    "plt.show()"
   ]
  },
  {
   "cell_type": "code",
   "execution_count": 22,
   "id": "19a186a6",
   "metadata": {},
   "outputs": [
    {
     "data": {
      "text/plain": [
       "460"
      ]
     },
     "execution_count": 22,
     "metadata": {},
     "output_type": "execute_result"
    }
   ],
   "source": [
    "len(test_data)"
   ]
  },
  {
   "cell_type": "code",
   "execution_count": 23,
   "id": "3397486b",
   "metadata": {},
   "outputs": [
    {
     "data": {
      "text/plain": [
       "(1, 30)"
      ]
     },
     "execution_count": 23,
     "metadata": {},
     "output_type": "execute_result"
    }
   ],
   "source": [
    "x_input=test_data[(len(test_data) - time_step):].reshape(1, -1)\n",
    "x_input.shape"
   ]
  },
  {
   "cell_type": "code",
   "execution_count": 24,
   "id": "9deba496",
   "metadata": {},
   "outputs": [],
   "source": [
    "temp_input = list(x_input)\n",
    "temp_input = temp_input[0].tolist()"
   ]
  },
  {
   "cell_type": "code",
   "execution_count": 25,
   "id": "243ca9ff",
   "metadata": {},
   "outputs": [
    {
     "name": "stdout",
     "output_type": "stream",
     "text": [
      "1 day input [0.99535424 1.         0.97406117 0.90631049 0.90360046 0.90437476\n",
      " 0.88037166 0.86759582 0.85327139 0.86720867 0.88269454 0.8699187\n",
      " 0.89469609 0.91637631 0.90708479 0.90437476 0.89430894 0.90902052\n",
      " 0.91560201 0.89237321 0.86566009 0.86140147 0.84785134 0.86256291\n",
      " 0.86643438 0.84978707 0.85791715 0.8459156  0.86488579 0.80899733]\n",
      "1 day output [[0.8017101]]\n",
      "2 day input [1.         0.97406117 0.90631049 0.90360046 0.90437476 0.88037166\n",
      " 0.86759582 0.85327139 0.86720867 0.88269454 0.8699187  0.89469609\n",
      " 0.91637631 0.90708479 0.90437476 0.89430894 0.90902052 0.91560201\n",
      " 0.89237321 0.86566009 0.86140147 0.84785134 0.86256291 0.86643438\n",
      " 0.84978707 0.85791715 0.8459156  0.86488579 0.80899733 0.80171013]\n",
      "2 day output [[0.78727067]]\n",
      "3 day input [0.97406117 0.90631049 0.90360046 0.90437476 0.88037166 0.86759582\n",
      " 0.85327139 0.86720867 0.88269454 0.8699187  0.89469609 0.91637631\n",
      " 0.90708479 0.90437476 0.89430894 0.90902052 0.91560201 0.89237321\n",
      " 0.86566009 0.86140147 0.84785134 0.86256291 0.86643438 0.84978707\n",
      " 0.85791715 0.8459156  0.86488579 0.80899733 0.80171013 0.78727067]\n",
      "3 day output [[0.76936835]]\n",
      "4 day input [0.90631049 0.90360046 0.90437476 0.88037166 0.86759582 0.85327139\n",
      " 0.86720867 0.88269454 0.8699187  0.89469609 0.91637631 0.90708479\n",
      " 0.90437476 0.89430894 0.90902052 0.91560201 0.89237321 0.86566009\n",
      " 0.86140147 0.84785134 0.86256291 0.86643438 0.84978707 0.85791715\n",
      " 0.8459156  0.86488579 0.80899733 0.80171013 0.78727067 0.76936835]\n",
      "4 day output [[0.7501807]]\n",
      "5 day input [0.90360046 0.90437476 0.88037166 0.86759582 0.85327139 0.86720867\n",
      " 0.88269454 0.8699187  0.89469609 0.91637631 0.90708479 0.90437476\n",
      " 0.89430894 0.90902052 0.91560201 0.89237321 0.86566009 0.86140147\n",
      " 0.84785134 0.86256291 0.86643438 0.84978707 0.85791715 0.8459156\n",
      " 0.86488579 0.80899733 0.80171013 0.78727067 0.76936835 0.75018072]\n",
      "5 day output [[0.7308459]]\n",
      "6 day input [0.90437476 0.88037166 0.86759582 0.85327139 0.86720867 0.88269454\n",
      " 0.8699187  0.89469609 0.91637631 0.90708479 0.90437476 0.89430894\n",
      " 0.90902052 0.91560201 0.89237321 0.86566009 0.86140147 0.84785134\n",
      " 0.86256291 0.86643438 0.84978707 0.85791715 0.8459156  0.86488579\n",
      " 0.80899733 0.80171013 0.78727067 0.76936835 0.75018072 0.73084593]\n",
      "6 day output [[0.71199095]]\n",
      "7 day input [0.88037166 0.86759582 0.85327139 0.86720867 0.88269454 0.8699187\n",
      " 0.89469609 0.91637631 0.90708479 0.90437476 0.89430894 0.90902052\n",
      " 0.91560201 0.89237321 0.86566009 0.86140147 0.84785134 0.86256291\n",
      " 0.86643438 0.84978707 0.85791715 0.8459156  0.86488579 0.80899733\n",
      " 0.80171013 0.78727067 0.76936835 0.75018072 0.73084593 0.71199095]\n",
      "7 day output [[0.693952]]\n",
      "8 day input [0.86759582 0.85327139 0.86720867 0.88269454 0.8699187  0.89469609\n",
      " 0.91637631 0.90708479 0.90437476 0.89430894 0.90902052 0.91560201\n",
      " 0.89237321 0.86566009 0.86140147 0.84785134 0.86256291 0.86643438\n",
      " 0.84978707 0.85791715 0.8459156  0.86488579 0.80899733 0.80171013\n",
      " 0.78727067 0.76936835 0.75018072 0.73084593 0.71199095 0.69395202]\n",
      "8 day output [[0.67692024]]\n",
      "9 day input [0.85327139 0.86720867 0.88269454 0.8699187  0.89469609 0.91637631\n",
      " 0.90708479 0.90437476 0.89430894 0.90902052 0.91560201 0.89237321\n",
      " 0.86566009 0.86140147 0.84785134 0.86256291 0.86643438 0.84978707\n",
      " 0.85791715 0.8459156  0.86488579 0.80899733 0.80171013 0.78727067\n",
      " 0.76936835 0.75018072 0.73084593 0.71199095 0.69395202 0.67692024]\n",
      "9 day output [[0.6610063]]\n",
      "10 day input [0.86720867 0.88269454 0.8699187  0.89469609 0.91637631 0.90708479\n",
      " 0.90437476 0.89430894 0.90902052 0.91560201 0.89237321 0.86566009\n",
      " 0.86140147 0.84785134 0.86256291 0.86643438 0.84978707 0.85791715\n",
      " 0.8459156  0.86488579 0.80899733 0.80171013 0.78727067 0.76936835\n",
      " 0.75018072 0.73084593 0.71199095 0.69395202 0.67692024 0.66100627]\n",
      "10 day output [[0.6462387]]\n",
      "11 day input [0.88269454 0.8699187  0.89469609 0.91637631 0.90708479 0.90437476\n",
      " 0.89430894 0.90902052 0.91560201 0.89237321 0.86566009 0.86140147\n",
      " 0.84785134 0.86256291 0.86643438 0.84978707 0.85791715 0.8459156\n",
      " 0.86488579 0.80899733 0.80171013 0.78727067 0.76936835 0.75018072\n",
      " 0.73084593 0.71199095 0.69395202 0.67692024 0.66100627 0.64623868]\n",
      "11 day output [[0.632591]]\n",
      "12 day input [0.8699187  0.89469609 0.91637631 0.90708479 0.90437476 0.89430894\n",
      " 0.90902052 0.91560201 0.89237321 0.86566009 0.86140147 0.84785134\n",
      " 0.86256291 0.86643438 0.84978707 0.85791715 0.8459156  0.86488579\n",
      " 0.80899733 0.80171013 0.78727067 0.76936835 0.75018072 0.73084593\n",
      " 0.71199095 0.69395202 0.67692024 0.66100627 0.64623868 0.63259101]\n",
      "12 day output [[0.6199809]]\n",
      "13 day input [0.89469609 0.91637631 0.90708479 0.90437476 0.89430894 0.90902052\n",
      " 0.91560201 0.89237321 0.86566009 0.86140147 0.84785134 0.86256291\n",
      " 0.86643438 0.84978707 0.85791715 0.8459156  0.86488579 0.80899733\n",
      " 0.80171013 0.78727067 0.76936835 0.75018072 0.73084593 0.71199095\n",
      " 0.69395202 0.67692024 0.66100627 0.64623868 0.63259101 0.61998087]\n",
      "13 day output [[0.6082889]]\n",
      "14 day input [0.91637631 0.90708479 0.90437476 0.89430894 0.90902052 0.91560201\n",
      " 0.89237321 0.86566009 0.86140147 0.84785134 0.86256291 0.86643438\n",
      " 0.84978707 0.85791715 0.8459156  0.86488579 0.80899733 0.80171013\n",
      " 0.78727067 0.76936835 0.75018072 0.73084593 0.71199095 0.69395202\n",
      " 0.67692024 0.66100627 0.64623868 0.63259101 0.61998087 0.60828888]\n",
      "14 day output [[0.59739774]]\n",
      "15 day input [0.90708479 0.90437476 0.89430894 0.90902052 0.91560201 0.89237321\n",
      " 0.86566009 0.86140147 0.84785134 0.86256291 0.86643438 0.84978707\n",
      " 0.85791715 0.8459156  0.86488579 0.80899733 0.80171013 0.78727067\n",
      " 0.76936835 0.75018072 0.73084593 0.71199095 0.69395202 0.67692024\n",
      " 0.66100627 0.64623868 0.63259101 0.61998087 0.60828888 0.59739774]\n",
      "15 day output [[0.587173]]\n",
      "16 day input [0.90437476 0.89430894 0.90902052 0.91560201 0.89237321 0.86566009\n",
      " 0.86140147 0.84785134 0.86256291 0.86643438 0.84978707 0.85791715\n",
      " 0.8459156  0.86488579 0.80899733 0.80171013 0.78727067 0.76936835\n",
      " 0.75018072 0.73084593 0.71199095 0.69395202 0.67692024 0.66100627\n",
      " 0.64623868 0.63259101 0.61998087 0.60828888 0.59739774 0.58717299]\n",
      "16 day output [[0.577484]]\n",
      "17 day input [0.89430894 0.90902052 0.91560201 0.89237321 0.86566009 0.86140147\n",
      " 0.84785134 0.86256291 0.86643438 0.84978707 0.85791715 0.8459156\n",
      " 0.86488579 0.80899733 0.80171013 0.78727067 0.76936835 0.75018072\n",
      " 0.73084593 0.71199095 0.69395202 0.67692024 0.66100627 0.64623868\n",
      " 0.63259101 0.61998087 0.60828888 0.59739774 0.58717299 0.57748401]\n",
      "17 day output [[0.5682247]]\n",
      "18 day input [0.90902052 0.91560201 0.89237321 0.86566009 0.86140147 0.84785134\n",
      " 0.86256291 0.86643438 0.84978707 0.85791715 0.8459156  0.86488579\n",
      " 0.80899733 0.80171013 0.78727067 0.76936835 0.75018072 0.73084593\n",
      " 0.71199095 0.69395202 0.67692024 0.66100627 0.64623868 0.63259101\n",
      " 0.61998087 0.60828888 0.59739774 0.58717299 0.57748401 0.56822473]\n",
      "18 day output [[0.5593015]]\n",
      "19 day input [0.91560201 0.89237321 0.86566009 0.86140147 0.84785134 0.86256291\n",
      " 0.86643438 0.84978707 0.85791715 0.8459156  0.86488579 0.80899733\n",
      " 0.80171013 0.78727067 0.76936835 0.75018072 0.73084593 0.71199095\n",
      " 0.69395202 0.67692024 0.66100627 0.64623868 0.63259101 0.61998087\n",
      " 0.60828888 0.59739774 0.58717299 0.57748401 0.56822473 0.5593015 ]\n",
      "19 day output [[0.5506474]]\n",
      "20 day input [0.89237321 0.86566009 0.86140147 0.84785134 0.86256291 0.86643438\n",
      " 0.84978707 0.85791715 0.8459156  0.86488579 0.80899733 0.80171013\n",
      " 0.78727067 0.76936835 0.75018072 0.73084593 0.71199095 0.69395202\n",
      " 0.67692024 0.66100627 0.64623868 0.63259101 0.61998087 0.60828888\n",
      " 0.59739774 0.58717299 0.57748401 0.56822473 0.5593015  0.55064738]\n",
      "20 day output [[0.54220545]]\n",
      "21 day input [0.86566009 0.86140147 0.84785134 0.86256291 0.86643438 0.84978707\n",
      " 0.85791715 0.8459156  0.86488579 0.80899733 0.80171013 0.78727067\n",
      " 0.76936835 0.75018072 0.73084593 0.71199095 0.69395202 0.67692024\n",
      " 0.66100627 0.64623868 0.63259101 0.61998087 0.60828888 0.59739774\n",
      " 0.58717299 0.57748401 0.56822473 0.5593015  0.55064738 0.54220545]\n",
      "21 day output [[0.533932]]\n",
      "22 day input [0.86140147 0.84785134 0.86256291 0.86643438 0.84978707 0.85791715\n",
      " 0.8459156  0.86488579 0.80899733 0.80171013 0.78727067 0.76936835\n",
      " 0.75018072 0.73084593 0.71199095 0.69395202 0.67692024 0.66100627\n",
      " 0.64623868 0.63259101 0.61998087 0.60828888 0.59739774 0.58717299\n",
      " 0.57748401 0.56822473 0.5593015  0.55064738 0.54220545 0.53393197]\n"
     ]
    },
    {
     "name": "stdout",
     "output_type": "stream",
     "text": [
      "22 day output [[0.5258045]]\n",
      "23 day input [0.84785134 0.86256291 0.86643438 0.84978707 0.85791715 0.8459156\n",
      " 0.86488579 0.80899733 0.80171013 0.78727067 0.76936835 0.75018072\n",
      " 0.73084593 0.71199095 0.69395202 0.67692024 0.66100627 0.64623868\n",
      " 0.63259101 0.61998087 0.60828888 0.59739774 0.58717299 0.57748401\n",
      " 0.56822473 0.5593015  0.55064738 0.54220545 0.53393197 0.52580452]\n",
      "23 day output [[0.51781654]]\n",
      "24 day input [0.86256291 0.86643438 0.84978707 0.85791715 0.8459156  0.86488579\n",
      " 0.80899733 0.80171013 0.78727067 0.76936835 0.75018072 0.73084593\n",
      " 0.71199095 0.69395202 0.67692024 0.66100627 0.64623868 0.63259101\n",
      " 0.61998087 0.60828888 0.59739774 0.58717299 0.57748401 0.56822473\n",
      " 0.5593015  0.55064738 0.54220545 0.53393197 0.52580452 0.51781654]\n",
      "24 day output [[0.5099592]]\n",
      "25 day input [0.86643438 0.84978707 0.85791715 0.8459156  0.86488579 0.80899733\n",
      " 0.80171013 0.78727067 0.76936835 0.75018072 0.73084593 0.71199095\n",
      " 0.69395202 0.67692024 0.66100627 0.64623868 0.63259101 0.61998087\n",
      " 0.60828888 0.59739774 0.58717299 0.57748401 0.56822473 0.5593015\n",
      " 0.55064738 0.54220545 0.53393197 0.52580452 0.51781654 0.50995922]\n",
      "25 day output [[0.50223976]]\n",
      "26 day input [0.84978707 0.85791715 0.8459156  0.86488579 0.80899733 0.80171013\n",
      " 0.78727067 0.76936835 0.75018072 0.73084593 0.71199095 0.69395202\n",
      " 0.67692024 0.66100627 0.64623868 0.63259101 0.61998087 0.60828888\n",
      " 0.59739774 0.58717299 0.57748401 0.56822473 0.5593015  0.55064738\n",
      " 0.54220545 0.53393197 0.52580452 0.51781654 0.50995922 0.50223976]\n",
      "26 day output [[0.49465758]]\n",
      "27 day input [0.85791715 0.8459156  0.86488579 0.80899733 0.80171013 0.78727067\n",
      " 0.76936835 0.75018072 0.73084593 0.71199095 0.69395202 0.67692024\n",
      " 0.66100627 0.64623868 0.63259101 0.61998087 0.60828888 0.59739774\n",
      " 0.58717299 0.57748401 0.56822473 0.5593015  0.55064738 0.54220545\n",
      " 0.53393197 0.52580452 0.51781654 0.50995922 0.50223976 0.49465758]\n",
      "27 day output [[0.48721227]]\n",
      "28 day input [0.8459156  0.86488579 0.80899733 0.80171013 0.78727067 0.76936835\n",
      " 0.75018072 0.73084593 0.71199095 0.69395202 0.67692024 0.66100627\n",
      " 0.64623868 0.63259101 0.61998087 0.60828888 0.59739774 0.58717299\n",
      " 0.57748401 0.56822473 0.5593015  0.55064738 0.54220545 0.53393197\n",
      " 0.52580452 0.51781654 0.50995922 0.50223976 0.49465758 0.48721227]\n",
      "28 day output [[0.47991675]]\n",
      "29 day input [0.86488579 0.80899733 0.80171013 0.78727067 0.76936835 0.75018072\n",
      " 0.73084593 0.71199095 0.69395202 0.67692024 0.66100627 0.64623868\n",
      " 0.63259101 0.61998087 0.60828888 0.59739774 0.58717299 0.57748401\n",
      " 0.56822473 0.5593015  0.55064738 0.54220545 0.53393197 0.52580452\n",
      " 0.51781654 0.50995922 0.50223976 0.49465758 0.48721227 0.47991675]\n",
      "29 day output [[0.47276813]]\n"
     ]
    }
   ],
   "source": [
    "from numpy import array\n",
    "\n",
    "lst_output = []\n",
    "n_steps = time_step\n",
    "i = 0\n",
    "while(i < 30):\n",
    "    if(len(temp_input) > time_step):\n",
    "        #print(temp_input)\n",
    "        x_input=np.array(temp_input[1:])\n",
    "        print(\"{} day input {}\".format(i,x_input))\n",
    "        x_input=x_input.reshape(1, -1)\n",
    "        x_input = x_input.reshape((1, n_steps, 1))\n",
    "        #print(x_input)\n",
    "        yhat = model.predict(x_input, verbose=0)\n",
    "        print(\"{} day output {}\".format(i, yhat))\n",
    "        temp_input.extend(yhat[0].tolist())\n",
    "        temp_input = temp_input[1:]\n",
    "        #print(temp_input)\n",
    "        lst_output.extend(yhat.tolist())\n",
    "        i=i+1\n",
    "    else:\n",
    "        x_input = x_input.reshape((1, n_steps,1))\n",
    "        yhat = model.predict(x_input, verbose=0)\n",
    "#         print(yhat[0])\n",
    "        temp_input.extend(yhat[0].tolist())\n",
    "#         print(len(temp_input))\n",
    "        lst_output.extend(yhat.tolist())\n",
    "        i = i+1\n"
   ]
  },
  {
   "cell_type": "code",
   "execution_count": 26,
   "id": "571ed070",
   "metadata": {},
   "outputs": [],
   "source": [
    "# day_new=np.arange(1,11)\n",
    "# day_pred=np.arange(11,41)\n",
    "\n",
    "day_new=np.arange(1, (1 + time_step))\n",
    "day_pred=np.arange((1 + time_step), (1 + time_step + 30))"
   ]
  },
  {
   "cell_type": "code",
   "execution_count": 27,
   "id": "ab4dd88e",
   "metadata": {},
   "outputs": [
    {
     "data": {
      "text/plain": [
       "1314"
      ]
     },
     "execution_count": 27,
     "metadata": {},
     "output_type": "execute_result"
    }
   ],
   "source": [
    "len(df_close)"
   ]
  },
  {
   "cell_type": "code",
   "execution_count": 28,
   "id": "59a26bcd",
   "metadata": {},
   "outputs": [
    {
     "data": {
      "text/plain": [
       "[<matplotlib.lines.Line2D at 0x263ac7b79a0>]"
      ]
     },
     "execution_count": 28,
     "metadata": {},
     "output_type": "execute_result"
    },
    {
     "data": {
      "image/png": "[encoded data removed]",
      "text/plain": [
       "<Figure size 432x288 with 1 Axes>"
      ]
     },
     "metadata": {
      "needs_background": "light"
     },
     "output_type": "display_data"
    }
   ],
   "source": [
    "plt.plot(day_new,scaler.inverse_transform(df_close[(len(df_close) - time_step):]))\n",
    "plt.plot(day_pred,scaler.inverse_transform(lst_output))"
   ]
  },
  {
   "cell_type": "code",
   "execution_count": 29,
   "id": "1752a811",
   "metadata": {},
   "outputs": [
    {
     "data": {
      "text/plain": [
       "[<matplotlib.lines.Line2D at 0x263ac7db970>]"
      ]
     },
     "execution_count": 29,
     "metadata": {},
     "output_type": "execute_result"
    },
    {
     "data": {
      "image/png": "[encoded data removed]",
      "text/plain": [
       "<Figure size 432x288 with 1 Axes>"
      ]
     },
     "metadata": {
      "needs_background": "light"
     },
     "output_type": "display_data"
    }
   ],
   "source": [
    "df3 = df_close.tolist()\n",
    "df3.extend(lst_output)\n",
    "plt.plot(df3[1000:])"
   ]
  },
  {
   "cell_type": "code",
   "execution_count": 30,
   "id": "4e86677f",
   "metadata": {},
   "outputs": [],
   "source": [
    "df3 = scaler.inverse_transform(df3).tolist()"
   ]
  },
  {
   "cell_type": "code",
   "execution_count": 31,
   "id": "06dfd71e",
   "metadata": {},
   "outputs": [
    {
     "data": {
      "text/plain": [
       "[<matplotlib.lines.Line2D at 0x263ad8cf700>]"
      ]
     },
     "execution_count": 31,
     "metadata": {},
     "output_type": "execute_result"
    },
    {
     "data": {
      "image/png": "[encoded data removed]",
      "text/plain": [
       "<Figure size 432x288 with 1 Axes>"
      ]
     },
     "metadata": {
      "needs_background": "light"
     },
     "output_type": "display_data"
    }
   ],
   "source": [
    "plt.plot(df3)"
   ]
  },
  {
   "cell_type": "code",
   "execution_count": null,
   "id": "b910e073",
   "metadata": {},
   "outputs": [],
   "source": []
  }
 ],
 "metadata": {
  "kernelspec": {
   "display_name": "Python 3 (ipykernel)",
   "language": "python",
   "name": "python3"
  },
  "language_info": {
   "codemirror_mode": {
    "name": "ipython",
    "version": 3
   },
   "file_extension": ".py",
   "mimetype": "text/x-python",
   "name": "python",
   "nbconvert_exporter": "python",
   "pygments_lexer": "ipython3",
   "version": "3.9.7"
  }
 },
 "nbformat": 4,
 "nbformat_minor": 5
}
